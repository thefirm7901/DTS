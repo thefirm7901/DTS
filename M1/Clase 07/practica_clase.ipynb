{
 "cells": [
  {
   "cell_type": "markdown",
   "metadata": {},
   "source": [
    "# Práctica Clase 7"
   ]
  },
  {
   "cell_type": "markdown",
   "metadata": {},
   "source": [
    "1) Diseñar una clase que permita trabajar con un árbol binario y que contenga los métodos:<br>\n",
    "    * insertaVal: para insertar un dato<br>\n",
    "    * buscaVal: que devuelva True o False si existe o no un dato<br>\n",
    "    * verVal: que imprima por pantalla los valores del árbol<br>\n",
    "\n",
    "Nota: Se puede utilizar la recursividad\n"
   ]
  },
  {
   "cell_type": "code",
   "execution_count": 8,
   "metadata": {},
   "outputs": [],
   "source": [
    "class Nodo:\n",
    "   def __init__(self, dato):\n",
    "      self.dato = dato\n",
    "      self.izq = None\n",
    "      self.der = None\n",
    "\n",
    "   def insertaVal(self, dato):\n",
    "      if dato < self.dato:\n",
    "         if self.izq == None:\n",
    "            self.izq = Nodo(dato)\n",
    "         else:\n",
    "            self.izq.insertVal(dato)\n",
    "      elif dato > self.dato:\n",
    "         if self.der == None:\n",
    "            self.der = Nodo(dato)\n",
    "         else:\n",
    "            self.der.insertVal(dato)\n",
    "      else:\n",
    "         print(\"Valor repetido\")"
   ]
  },
  {
   "cell_type": "code",
   "execution_count": null,
   "metadata": {},
   "outputs": [],
   "source": [
    "raiz = Nodo(10)\n",
    "raiz.insertaVal(2)\n",
    "raiz.insertaVal(12)\n",
    "raiz.insertaVal(11)\n"
   ]
  }
 ],
 "metadata": {
  "kernelspec": {
   "display_name": "Python 3",
   "language": "python",
   "name": "python3"
  },
  "language_info": {
   "codemirror_mode": {
    "name": "ipython",
    "version": 3
   },
   "file_extension": ".py",
   "mimetype": "text/x-python",
   "name": "python",
   "nbconvert_exporter": "python",
   "pygments_lexer": "ipython3",
   "version": "3.10.8"
  },
  "vscode": {
   "interpreter": {
    "hash": "25b967826fee24da2569b50746cf9fa4067dc6cfa635a17c8da9080146180dfa"
   }
  }
 },
 "nbformat": 4,
 "nbformat_minor": 4
}
