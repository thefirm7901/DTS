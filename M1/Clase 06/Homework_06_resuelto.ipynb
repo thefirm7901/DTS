{
 "cells": [
  {
   "cell_type": "markdown",
   "metadata": {},
   "source": [
    "# Práctica Clase 6"
   ]
  },
  {
   "cell_type": "markdown",
   "metadata": {},
   "source": [
    "1) Cargar el dataset \"Emisiones_CO2.csv\" provisto en la clase 2 en un Dataframe de Pandas, quitar los registros que contengan valores faltantes e implementar una nueva columna, que contenga el resultado de una función Hash aplicada sobre el campo \"Código de País\" y se denomine \"Clave_Hash\".<br>\n",
    "Consideraciones: Se puede utilizar la función provista.\n"
   ]
  },
  {
   "cell_type": "code",
   "execution_count": null,
   "metadata": {},
   "outputs": [],
   "source": [
    "def hash_function(key):\n",
    "    return sum(index * ord(character) for index, character in enumerate(repr(key), start=1))"
   ]
  },
  {
   "cell_type": "code",
   "execution_count": null,
   "metadata": {},
   "outputs": [],
   "source": [
    "for index, character in enumerate(repr('Hola Mundo'), start=1):\n",
    "   print(index, character)"
   ]
  },
  {
   "cell_type": "code",
   "execution_count": null,
   "metadata": {},
   "outputs": [],
   "source": [
    "#print(repr('Hola\\nMundo'))\n",
    "#print(ord('@'))\n",
    "#print('Hola \\\n",
    "#Mundo')\n",
    "#print(chr(64))"
   ]
  },
  {
   "cell_type": "code",
   "execution_count": null,
   "metadata": {},
   "outputs": [],
   "source": [
    "print(hash_function('ARG'))\n",
    "print(hash_function('Ana'))"
   ]
  },
  {
   "cell_type": "code",
   "execution_count": null,
   "metadata": {},
   "outputs": [],
   "source": [
    "import pandas as pd"
   ]
  },
  {
   "cell_type": "code",
   "execution_count": null,
   "metadata": {},
   "outputs": [],
   "source": [
    "df = pd.read_csv(r'C:\\Users\\gonza\\Documents\\Trabajo\\Henry\\Data Science\\DS-M1\\Clase 06\\Emisiones_CO2.csv',sep='|',decimal=',', encoding='latin-1', thousands='.')\n",
    "df.info()"
   ]
  },
  {
   "cell_type": "code",
   "execution_count": null,
   "metadata": {},
   "outputs": [],
   "source": [
    "df.dropna(inplace=True)\n",
    "df.info()"
   ]
  },
  {
   "cell_type": "code",
   "execution_count": null,
   "metadata": {},
   "outputs": [],
   "source": [
    "df.rename(columns={'Código de país': 'cod_pais',\n",
    "                   'Nombre del país': 'nom_pais',\n",
    "                   'CO2 (kt)': 'emision_co2',\n",
    "                   'CO2 per cápita (toneladas métricas)': 'emisiones_co2_percapita'}, inplace=True)\n",
    "df"
   ]
  },
  {
   "cell_type": "code",
   "execution_count": null,
   "metadata": {},
   "outputs": [],
   "source": [
    "#df['clave_hash'] = df['cod_pais'].apply(hash_function)\n",
    "df['clave_hash'] = (df['cod_pais'] + df['nom_pais']).apply(hash_function)\n",
    "df"
   ]
  },
  {
   "cell_type": "markdown",
   "metadata": {},
   "source": [
    "2. A partir del Dataframe creado en el punto 1, construir uno nuevo, que contenga solo los valores distintos de la tupla \"Clave_Hash\", \"Código de País\" , \"Nombre de país\" y \"Región\". Quitando luego del dataframe original los campos \"Código de País\" , \"Nombre de país\" y \"Región\""
   ]
  },
  {
   "cell_type": "code",
   "execution_count": null,
   "metadata": {},
   "outputs": [],
   "source": [
    "df_paises_unicos = df[['clave_hash', 'cod_pais', 'nom_pais', 'Región']].drop_duplicates(ignore_index=True)\n",
    "#df_paises_unicos = df[['clave_hash', 'cod_pais', 'nom_pais', 'Región']].drop_duplicates().reset_index()\n",
    "df_paises_unicos.index += 1\n",
    "df_paises_unicos"
   ]
  },
  {
   "cell_type": "code",
   "execution_count": null,
   "metadata": {},
   "outputs": [],
   "source": [
    "#df.drop(columns=['cod_pais', 'nom_pais', 'Región'], inplace=True)\n",
    "df.drop(['cod_pais', 'nom_pais', 'Región'], inplace=True, axis=1)\n",
    "df"
   ]
  },
  {
   "cell_type": "code",
   "execution_count": null,
   "metadata": {},
   "outputs": [],
   "source": [
    "df_paises_unicos"
   ]
  },
  {
   "cell_type": "code",
   "execution_count": null,
   "metadata": {},
   "outputs": [],
   "source": [
    "df_paises_unicos['clave_hash'].value_counts()"
   ]
  },
  {
   "cell_type": "markdown",
   "metadata": {},
   "source": []
  }
 ],
 "metadata": {
  "kernelspec": {
   "display_name": "Python 3",
   "language": "python",
   "name": "python3"
  },
  "language_info": {
   "codemirror_mode": {
    "name": "ipython",
    "version": 3
   },
   "file_extension": ".py",
   "mimetype": "text/x-python",
   "name": "python",
   "nbconvert_exporter": "python",
   "pygments_lexer": "ipython3",
   "version": "3.10.8"
  },
  "vscode": {
   "interpreter": {
    "hash": "25b967826fee24da2569b50746cf9fa4067dc6cfa635a17c8da9080146180dfa"
   }
  }
 },
 "nbformat": 4,
 "nbformat_minor": 4
}
