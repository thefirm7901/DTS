{
 "cells": [
  {
   "cell_type": "markdown",
   "metadata": {},
   "source": [
    "# Práctica Clase 1 "
   ]
  },
  {
   "cell_type": "markdown",
   "metadata": {},
   "source": [
    "1) Crear una función capaz de convertir números enteros de base 10 a base 2. Debe recibir como parámetro el número a convertir<br>\n",
    "Consideraciones:<br> \n",
    "a. Tratar de resolverlo sin usar la función format(nro,\"b\")<br>\n",
    "b. El pdf \"conversion-de-decimal-a-binario.pdf\" puede servir de ayuda.\n"
   ]
  },
  {
   "cell_type": "code",
   "execution_count": 67,
   "metadata": {},
   "outputs": [],
   "source": [
    "def NumeroBinario(numero):\n",
    "    '''\n",
    "    Esta función recibe como parámetro un número entero mayor ó igual a cero y lo devuelve en su \n",
    "    representación binaria. Debe recibir y devolver un valor de tipo entero.\n",
    "    En caso de que el parámetro no sea de tipo entero y mayor a -1 retorna nulo.\n",
    "    '''\n",
    "    cociente = numero\n",
    "    binario = []\n",
    "    if (type(numero) != int): return None\n",
    "    elif (numero < 0): return None\n",
    "    elif (numero == 0): return numero\n",
    "    elif (numero == 1):\n",
    "        binario.insert(0, 1)\n",
    "        breakpoint\n",
    "    else:\n",
    "        while (cociente > 0):\n",
    "            binario.insert(0, cociente % 2)\n",
    "            cociente //= 2\n",
    "        print(f'{binario}')\n",
    "    i = 0\n",
    "    binarioStr = ''\n",
    "    for n in binario:\n",
    "        binarioStr += str(n)\n",
    "    return int(binarioStr)\n"
   ]
  },
  {
   "cell_type": "code",
   "execution_count": 70,
   "metadata": {},
   "outputs": [
    {
     "name": "stdout",
     "output_type": "stream",
     "text": [
      "[1, 0, 1, 0]\n",
      "1010\n"
     ]
    }
   ],
   "source": [
    "#Ejemplo:\n",
    "print(NumeroBinario(10))"
   ]
  },
  {
   "cell_type": "markdown",
   "metadata": {},
   "source": [
    "2) Convertir de decimal a binario las fracciones 1/2, 1/3, 1/4, 1/5, 1/6, 1/7, 1/8, 1/9. Luego analizar los resultados y observar qué particularidad se encuentra en los mismos. Se puede usar Python o una calculadora, lo importante es ver si hay algo que podemos notar..."
   ]
  },
  {
   "cell_type": "markdown",
   "metadata": {},
   "source": [
    "Salida esperada:\n",
    "* Fraccion 1 / 2 :  0.5  y En binario:  0.1\n",
    "* Fraccion 1 / 3 :  0.3333333333333333  y En binario:  0.010101010101010101010101\n",
    "* Fraccion 1 / 4 :  0.25  y En binario:  0.01\n",
    "* Fraccion 1 / 5 :  0.2  y En binario:  0.001100110011001100110011\n",
    "* Fraccion 1 / 6 :  0.16666666666666666  y En binario:  0.001010101010101010101010\n",
    "* Fraccion 1 / 7 :  0.14285714285714285  y En binario:  0.001001001001001001001001\n",
    "* Fraccion 1 / 8 :  0.125  y En binario:  0.001\n",
    "* Fraccion 1 / 9 :  0.1111111111111111  y En binario:  0.000111000111000111000111"
   ]
  },
  {
   "cell_type": "code",
   "execution_count": 27,
   "metadata": {},
   "outputs": [
    {
     "name": "stdout",
     "output_type": "stream",
     "text": [
      "2: 0.1\n",
      "3: 0.010101010101010101010101010101010101010101010101010101\n",
      "4: 0.01\n",
      "5: 0.001100110011001100110011001100110011001100110011001101\n",
      "6: 0.0010101010101010101010101010101010101010101010101010101\n",
      "7: 0.001001001001001001001001001001001001001001001001001001\n",
      "8: 0.001\n",
      "9: 0.000111000111000111000111000111000111000111000111000111\n",
      "10: 0.0001100110011001100110011001100110011001100110011001101\n",
      "11: 0.0001011101000101110100010111010001011101000101110100011\n",
      "12: 0.00010101010101010101010101010101010101010101010101010101\n",
      "13: 0.000100111011000100111011000100111011000100111011000101\n",
      "14: 0.0001001001001001001001001001001001001001001001001001001\n",
      "15: 0.00010001000100010001000100010001000100010001000100010001\n",
      "16: 0.0001\n",
      "17: 0.00001111000011110000111100001111000011110000111100001111\n",
      "18: 0.0000111000111000111000111000111000111000111000111000111\n",
      "19: 0.000011010111100101000011010111100101000011010111100101\n",
      "20: 0.00001100110011001100110011001100110011001100110011001101\n",
      "21: 0.000011000011000011000011000011000011000011000011000011\n",
      "22: 0.00001011101000101110100010111010001011101000101110100011\n",
      "23: 0.0000101100100001011001000010110010000101100100001011001\n",
      "24: 0.000010101010101010101010101010101010101010101010101010101\n",
      "25: 0.000010100011110101110000101000111101011100001010001111011\n",
      "26: 0.0000100111011000100111011000100111011000100111011000101\n",
      "27: 0.000010010111101101000010010111101101000010010111101101\n",
      "28: 0.00001001001001001001001001001001001001001001001001001001\n",
      "29: 0.00001000110100111101110010110000100011010011110111001011\n"
     ]
    }
   ],
   "source": [
    "valor = 30\n",
    "for n in range(2,valor):\n",
    "    fraccion = 1/n\n",
    "    binario = []\n",
    "    while (fraccion != 0):\n",
    "        binario.append(int(fraccion * 2))\n",
    "        fraccion = (fraccion * 2) - (int(fraccion * 2)) \n",
    "    binarioStr = '0.'\n",
    "    for i in binario:\n",
    "        if i == 0: binarioStr += '0'\n",
    "        else: binarioStr += '1'\n",
    "    print(f'{n}: {binarioStr}')"
   ]
  }
 ],
 "metadata": {
  "kernelspec": {
   "display_name": "Python 3.9.12 ('base')",
   "language": "python",
   "name": "python3"
  },
  "language_info": {
   "codemirror_mode": {
    "name": "ipython",
    "version": 3
   },
   "file_extension": ".py",
   "mimetype": "text/x-python",
   "name": "python",
   "nbconvert_exporter": "python",
   "pygments_lexer": "ipython3",
   "version": "3.9.12 (main, Apr  4 2022, 05:22:27) [MSC v.1916 64 bit (AMD64)]"
  },
  "orig_nbformat": 4,
  "vscode": {
   "interpreter": {
    "hash": "c535bb3247b52e19c60266d6d21e8936de906900d582b8f04b76ce563c6653ef"
   }
  }
 },
 "nbformat": 4,
 "nbformat_minor": 2
}
