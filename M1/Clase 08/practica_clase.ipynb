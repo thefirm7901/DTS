{
 "cells": [
  {
   "cell_type": "code",
   "execution_count": null,
   "metadata": {},
   "outputs": [],
   "source": [
    "print(\"Hola Mundo\")\n",
    "print(\"Hola Mundo\")\n",
    "print(\"Hola Mundo\")\n",
    "print(\"Hola Mundo\")\n",
    "print(\"Hola Mundo\")"
   ]
  },
  {
   "cell_type": "code",
   "execution_count": null,
   "metadata": {},
   "outputs": [],
   "source": [
    "print(\"Hola Mundo\\n\" * 5)"
   ]
  },
  {
   "cell_type": "code",
   "execution_count": null,
   "metadata": {},
   "outputs": [],
   "source": [
    "for i in range(5):\n",
    "   print(\"Hola Mundo\")"
   ]
  },
  {
   "cell_type": "code",
   "execution_count": null,
   "metadata": {},
   "outputs": [],
   "source": [
    "from time import sleep\n",
    "palabra = \"Bienvenido Roberto\"\n",
    "for caracter in palabra:\n",
    "   print(caracter, end='')\n",
    "   sleep(0.2)"
   ]
  },
  {
   "cell_type": "code",
   "execution_count": null,
   "metadata": {},
   "outputs": [],
   "source": [
    "import random\n",
    "secuencia = random.sample(range(17), 16)\n",
    "secuencia"
   ]
  },
  {
   "cell_type": "code",
   "execution_count": null,
   "metadata": {},
   "outputs": [],
   "source": [
    "#O(N)\n",
    "maximo = secuencia[0]\n",
    "for num in secuencia:\n",
    "   if num > maximo: maximo = num\n",
    "print(maximo)\n",
    "\n"
   ]
  },
  {
   "cell_type": "code",
   "execution_count": null,
   "metadata": {},
   "outputs": [],
   "source": [
    "#O(2N)\n",
    "maximo = secuencia[0]\n",
    "for num in secuencia:\n",
    "   if num > maximo: maximo = num\n",
    "print(maximo)\n",
    "\n",
    "minimo = secuencia[0]\n",
    "for num in secuencia:\n",
    "   if num < minimo: minimo = num\n",
    "print(minimo)"
   ]
  },
  {
   "cell_type": "code",
   "execution_count": null,
   "metadata": {},
   "outputs": [],
   "source": [
    "#O(N)\n",
    "maximo = secuencia[0]\n",
    "minimo = secuencia[0]\n",
    "for num in secuencia:\n",
    "   if num > maximo: maximo = num\n",
    "   if num < minimo: minimo = num\n",
    "\n",
    "print(minimo)\n",
    "print(maximo)"
   ]
  },
  {
   "cell_type": "code",
   "execution_count": null,
   "metadata": {},
   "outputs": [],
   "source": [
    "#O(1)\n",
    "a = 8"
   ]
  },
  {
   "cell_type": "code",
   "execution_count": null,
   "metadata": {},
   "outputs": [],
   "source": [
    "#O(N a la 2)\n",
    "matriz = [[1,2,3],\n",
    "          [4,5,6]]\n",
    "\n",
    "for linea in matriz:\n",
    "   for num in linea:\n",
    "      print(num)"
   ]
  },
  {
   "cell_type": "code",
   "execution_count": null,
   "metadata": {},
   "outputs": [],
   "source": [
    "#Factorial a\n",
    "a*7*6*5*4*3*2*1"
   ]
  }
 ],
 "metadata": {
  "kernelspec": {
   "display_name": "Python 3",
   "language": "python",
   "name": "python3"
  },
  "language_info": {
   "codemirror_mode": {
    "name": "ipython",
    "version": 3
   },
   "file_extension": ".py",
   "mimetype": "text/x-python",
   "name": "python",
   "nbconvert_exporter": "python",
   "pygments_lexer": "ipython3",
   "version": "3.10.8"
  },
  "orig_nbformat": 4,
  "vscode": {
   "interpreter": {
    "hash": "25b967826fee24da2569b50746cf9fa4067dc6cfa635a17c8da9080146180dfa"
   }
  }
 },
 "nbformat": 4,
 "nbformat_minor": 2
}
