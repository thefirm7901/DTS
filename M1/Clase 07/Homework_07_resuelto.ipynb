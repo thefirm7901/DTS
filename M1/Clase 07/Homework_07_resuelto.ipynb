{
 "cells": [
  {
   "cell_type": "markdown",
   "metadata": {},
   "source": [
    "# Práctica Clase 7"
   ]
  },
  {
   "cell_type": "markdown",
   "metadata": {},
   "source": [
    "1) Diseñar una clase que permita trabajar con un árbol binario y que contenga los métodos:<br>\n",
    "    * insertaVal: para insertar un dato<br>\n",
    "    * buscaVal: que devuelva True o False si existe o no un dato<br>\n",
    "    * verVal: que imprima por pantalla los valores del árbol<br>\n",
    "\n",
    "Nota: Se puede utilizar la recursividad\n"
   ]
  },
  {
   "cell_type": "code",
   "execution_count": 17,
   "metadata": {},
   "outputs": [],
   "source": [
    "class Nodo():\n",
    "    def __init__(self, dato):\n",
    "        self.dato = dato\n",
    "        self.izq = None\n",
    "        self.der = None\n",
    "    \n",
    "    def insertaVal(self, dato):\n",
    "        if dato < self.dato:\n",
    "            if self.izq == None:\n",
    "                self.izq = Nodo(dato)\n",
    "            else:\n",
    "                self.izq.insertaVal(dato)\n",
    "        elif dato > self.dato:\n",
    "            if self.der == None:\n",
    "                self.der = Nodo(dato)\n",
    "            else:\n",
    "                self.der.insertaVal(dato)\n",
    "        else:\n",
    "            print(\"Valor repetido\")\n",
    "\n",
    "    def buscarVal(self, val_bus):\n",
    "        if val_bus < self.dato:\n",
    "            if self.izq == None:\n",
    "                return False\n",
    "            return self.izq.buscarVal(val_bus)\n",
    "        elif val_bus > self.dato:\n",
    "            if self.der == None:\n",
    "                return False\n",
    "            return self.der.buscarVal(val_bus)\n",
    "        else:\n",
    "            return True\n",
    "\n",
    "    def verVals(self):\n",
    "        if self.der: self.der.verVals()\n",
    "        if self.izq: self.izq.verVals()\n",
    "        print(self.dato)\n"
   ]
  },
  {
   "cell_type": "code",
   "execution_count": 18,
   "metadata": {},
   "outputs": [
    {
     "name": "stdout",
     "output_type": "stream",
     "text": [
      "15\n",
      "9\n",
      "12\n",
      "7\n",
      "8\n",
      "5\n"
     ]
    }
   ],
   "source": [
    "raiz = Nodo(5)\n",
    "raiz.insertaVal(8)\n",
    "raiz.insertaVal(7)\n",
    "raiz.insertaVal(12)\n",
    "raiz.insertaVal(9)\n",
    "raiz.insertaVal(15)\n",
    "#raiz.buscarVal(11)\n",
    "raiz.verVals()"
   ]
  },
  {
   "cell_type": "code",
   "execution_count": 10,
   "metadata": {},
   "outputs": [
    {
     "name": "stdout",
     "output_type": "stream",
     "text": [
      "Tiene contenido\n"
     ]
    }
   ],
   "source": [
    "lista = []\n",
    "if not lista:\n",
    "   print(\"Está vacía\")\n",
    "else:\n",
    "   print(\"Tiene contenido\")"
   ]
  }
 ],
 "metadata": {
  "kernelspec": {
   "display_name": "Python 3",
   "language": "python",
   "name": "python3"
  },
  "language_info": {
   "codemirror_mode": {
    "name": "ipython",
    "version": 3
   },
   "file_extension": ".py",
   "mimetype": "text/x-python",
   "name": "python",
   "nbconvert_exporter": "python",
   "pygments_lexer": "ipython3",
   "version": "3.10.8"
  },
  "vscode": {
   "interpreter": {
    "hash": "25b967826fee24da2569b50746cf9fa4067dc6cfa635a17c8da9080146180dfa"
   }
  }
 },
 "nbformat": 4,
 "nbformat_minor": 4
}
